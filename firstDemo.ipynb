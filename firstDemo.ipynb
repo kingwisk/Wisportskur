{
 "cells": [
  {
   "cell_type": "code",
   "execution_count": null,
   "metadata": {
    "collapsed": true
   },
   "outputs": [],
   "source": [
    "# Homework8 Solution\n",
    "\n",
    "import requests\n",
    "import bs4\n",
    "import pandas\n",
    "import numpy"
   ]
  },
  {
   "cell_type": "code",
   "execution_count": null,
   "metadata": {
    "collapsed": false
   },
   "outputs": [],
   "source": [
    "# Problem 1:\n",
    "page = requests.get('http://www.ncaa.com/rankings/basketball-men/d1/ncaa-mens-basketball-rpi')\n",
    "soup = bs4.BeautifulSoup(page.content, 'html.parser')\n",
    "tb = soup.find('table', {'class':'ncaa-rankings-table'}).find('tbody')\n",
    "rows = tb.find_all('tr')\n",
    "data = [(r.contents[3].text, int(r.contents[0].text), r.contents[2].text) \\\n",
    "       for r in rows]\n",
    "table = pandas.DataFrame(data, columns=['Conference', 'Rank', 'Team'])\n",
    "table"
   ]
  },
  {
   "cell_type": "code",
   "execution_count": null,
   "metadata": {
    "collapsed": false
   },
   "outputs": [],
   "source": [
    "g = table.groupby('Conference')\n",
    "ranks = g.Rank.mean().sort_values()\n",
    "ranks"
   ]
  },
  {
   "cell_type": "code",
   "execution_count": null,
   "metadata": {
    "collapsed": false
   },
   "outputs": [],
   "source": [
    "# Problem 2:\n",
    "teams = [(t.text, t.attrs['href']) for t in \n",
    "    bs4.BeautifulSoup(requests.get('http://www.ncaa.com/standings/basketball-men/d1/2016/atlantic-coast').content, 'html.parser')  \n",
    "    .find('div', {'class':'ncaa-standings-conference-show-atlantic-coast'}) \n",
    "    .find_all('a', {'class':'ncaa-standing-conference-team-link'}) ]\n",
    "teams"
   ]
  },
  {
   "cell_type": "code",
   "execution_count": null,
   "metadata": {
    "collapsed": false
   },
   "outputs": [],
   "source": [
    "margins = [(team, numpy.mean(\n",
    "    [eval(score[2:]) * (1 if score[0]=='W' else -1) for score in \n",
    "        [game.contents[2].text for game in \n",
    "            bs4.BeautifulSoup(requests.get('http://www.ncaa.com' + url).content,'html.parser') \n",
    "                .find('table', {'class':'ncaa-schools-sport-table'}).tbody \n",
    "                .find_all('tr') ] ]) )\n",
    "    for (team,url) in teams]\n",
    "margins"
   ]
  },
  {
   "cell_type": "code",
   "execution_count": null,
   "metadata": {
    "collapsed": false
   },
   "outputs": [],
   "source": [
    "table = pandas.DataFrame(margins, columns=['Team', 'Margin']) \\\n",
    "    .sort_values('Margin', ascending=False)\n",
    "table"
   ]
  },
  {
   "cell_type": "code",
   "execution_count": null,
   "metadata": {
    "collapsed": true
   },
   "outputs": [],
   "source": []
  }
 ],
 "metadata": {
  "anaconda-cloud": {},
  "kernelspec": {
   "display_name": "Python [conda root]",
   "language": "python",
   "name": "conda-root-py"
  },
  "language_info": {
   "codemirror_mode": {
    "name": "ipython",
    "version": 3
   },
   "file_extension": ".py",
   "mimetype": "text/x-python",
   "name": "python",
   "nbconvert_exporter": "python",
   "pygments_lexer": "ipython3",
   "version": "3.5.2"
  }
 },
 "nbformat": 4,
 "nbformat_minor": 1
}
